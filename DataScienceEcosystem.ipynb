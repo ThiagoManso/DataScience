{
 "cells": [
  {
   "cell_type": "code",
   "execution_count": null,
   "id": "46317bdb-8dbb-47d9-8494-74d6906f0fdf",
   "metadata": {},
   "outputs": [],
   "source": [
    "# Data Science Tools and Ecosystem"
   ]
  },
  {
   "cell_type": "code",
   "execution_count": null,
   "id": "866757f9-865c-4d2e-9f8b-f118e6d9832e",
   "metadata": {},
   "outputs": [],
   "source": [
    "# In this notebook, Data Science Tools and Ecosystem are summarized."
   ]
  },
  {
   "cell_type": "code",
   "execution_count": null,
   "id": "b5e8cf3d-0f97-4b33-8cb9-a5c9b649c422",
   "metadata": {},
   "outputs": [],
   "source": [
    "# Some of the popular languages that Data Scientists use are:\n",
    "\n",
    "1. Python\n",
    "2. R\n",
    "3. SQL"
   ]
  },
  {
   "cell_type": "code",
   "execution_count": null,
   "id": "53a207ae-b2a4-4582-ac89-5a79cb648e18",
   "metadata": {},
   "outputs": [],
   "source": [
    "# Some of the commonly used libraries used by Data Scientists include:\n",
    "\n",
    "1. Pandas\n",
    "2. NumPy\n",
    "3. Matplotlib"
   ]
  },
  {
   "cell_type": "code",
   "execution_count": null,
   "id": "49a0ffb0-d5f0-44d6-bfbd-b5c0f8b893da",
   "metadata": {},
   "outputs": [],
   "source": [
    "| Data Science Tools    |\n",
    "|-----------------------|\n",
    "| Jupyter Notebook      |\n",
    "| RStudio               |\n",
    "| Spyder                |"
   ]
  },
  {
   "cell_type": "code",
   "execution_count": null,
   "id": "440e971d-0605-4bbc-a5b4-0e65b9ec3096",
   "metadata": {},
   "outputs": [],
   "source": [
    "### Below are a few examples of evaluating arithmetic expressions in Python.\n",
    "\n",
    "- Addition: 2 + 2\n",
    "- Multiplication: 3 * 4\n",
    "- Division: 10 / 2"
   ]
  },
  {
   "cell_type": "code",
   "execution_count": 1,
   "id": "8aa48b2b-98b0-40e4-b324-43c1d0069c70",
   "metadata": {
    "tags": []
   },
   "outputs": [
    {
     "name": "stdout",
     "output_type": "stream",
     "text": [
      "17\n"
     ]
    }
   ],
   "source": [
    "# This is a simple arithmetic expression to multiply then add integers\n",
    "result = (3*4) + 5\n",
    "print(result)"
   ]
  },
  {
   "cell_type": "code",
   "execution_count": 2,
   "id": "eddc3ac0-2b78-48bf-b86a-2cc467ba62f8",
   "metadata": {
    "tags": []
   },
   "outputs": [
    {
     "name": "stdout",
     "output_type": "stream",
     "text": [
      "3.3333333333333335\n"
     ]
    }
   ],
   "source": [
    "# This will convert 200 minutes to hours by dividing by 60\n",
    "hours = 200 / 60\n",
    "print(hours)"
   ]
  },
  {
   "cell_type": "code",
   "execution_count": null,
   "id": "bece28e0-2c45-446a-887c-caed5748d7eb",
   "metadata": {},
   "outputs": [],
   "source": [
    "**Objectives:**\n",
    "\n",
    "- Listar linguagens populares para Data Science.\n",
    "- Apresentar bibliotecas comuns usadas em ciência de dados.\n",
    "- Descrever algumas ferramentas essenciais para Data Science."
   ]
  },
  {
   "cell_type": "code",
   "execution_count": null,
   "id": "93951cbd-39de-435f-b72d-103e42b67c40",
   "metadata": {},
   "outputs": [],
   "source": [
    "## Author\n",
    "Tiago Manso"
   ]
  }
 ],
 "metadata": {
  "kernelspec": {
   "display_name": "Python",
   "language": "python",
   "name": "conda-env-python-py"
  },
  "language_info": {
   "codemirror_mode": {
    "name": "ipython",
    "version": 3
   },
   "file_extension": ".py",
   "mimetype": "text/x-python",
   "name": "python",
   "nbconvert_exporter": "python",
   "pygments_lexer": "ipython3",
   "version": "3.7.12"
  }
 },
 "nbformat": 4,
 "nbformat_minor": 5
}
